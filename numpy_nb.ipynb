{
 "cells": [
  {
   "cell_type": "markdown",
   "id": "f9376dfd",
   "metadata": {},
   "source": [
    "**Welcome to Numpy Tutorial**"
   ]
  },
  {
   "cell_type": "code",
   "execution_count": null,
   "id": "60b31688",
   "metadata": {},
   "outputs": [],
   "source": [
    "import numpy as np"
   ]
  },
  {
   "cell_type": "markdown",
   "id": "129906f8",
   "metadata": {},
   "source": [
    "**Creating numpy array using python object**"
   ]
  },
  {
   "cell_type": "code",
   "execution_count": 12,
   "id": "5a5700dd",
   "metadata": {},
   "outputs": [],
   "source": [
    "myarr = np.array([3,6,4,3,2,11], np.int32)"
   ]
  },
  {
   "cell_type": "code",
   "execution_count": 13,
   "id": "91ab9802",
   "metadata": {},
   "outputs": [
    {
     "name": "stdout",
     "output_type": "stream",
     "text": [
      "[ 3  6  4  3  2 11]\n",
      "int32\n"
     ]
    }
   ],
   "source": [
    "print(myarr)\n",
    "print(myarr.dtype)"
   ]
  },
  {
   "cell_type": "code",
   "execution_count": 14,
   "id": "a351b41c",
   "metadata": {},
   "outputs": [
    {
     "name": "stdout",
     "output_type": "stream",
     "text": [
      "21\n",
      "(1, 3)\n"
     ]
    }
   ],
   "source": [
    "arr = np.array([[11,21,51]])\n",
    "\n",
    "print(arr[0,1])\n",
    "\n",
    "print(arr.shape)"
   ]
  },
  {
   "cell_type": "code",
   "execution_count": 15,
   "id": "cf627398",
   "metadata": {},
   "outputs": [
    {
     "data": {
      "text/plain": [
       "array([[11, 69, 51]])"
      ]
     },
     "execution_count": 15,
     "metadata": {},
     "output_type": "execute_result"
    }
   ],
   "source": [
    "arr[0,1] = 69\n",
    "arr"
   ]
  },
  {
   "cell_type": "code",
   "execution_count": 16,
   "id": "611a650a",
   "metadata": {},
   "outputs": [],
   "source": [
    "list_array = np.array([[1,2,3], [23,2,1], [1,0,1]], np.int32)"
   ]
  },
  {
   "cell_type": "code",
   "execution_count": 18,
   "id": "76c4f5d4",
   "metadata": {},
   "outputs": [
    {
     "name": "stdout",
     "output_type": "stream",
     "text": [
      "[[ 1  2  3]\n",
      " [23  2  1]\n",
      " [ 1  0  1]]\n",
      "(3, 3)\n",
      "int32\n"
     ]
    },
    {
     "data": {
      "text/plain": [
       "9"
      ]
     },
     "execution_count": 18,
     "metadata": {},
     "output_type": "execute_result"
    }
   ],
   "source": [
    "print(list_array)\n",
    "print(list_array.shape)\n",
    "print(list_array.dtype)\n",
    "list_array.size"
   ]
  },
  {
   "cell_type": "code",
   "execution_count": 20,
   "id": "f1afde83",
   "metadata": {},
   "outputs": [
    {
     "name": "stdout",
     "output_type": "stream",
     "text": [
      "object\n",
      "when we crete numpy array using sets in python then the dtype will be 'object'which is not so effecient for mathematical calculations\n"
     ]
    }
   ],
   "source": [
    "print(np.array({2,1,0,1}).dtype)\n",
    "\n",
    "print(\"when we crete numpy array using sets in python then the dtype will be 'object'\" \\\n",
    "\"which is not so effecient for mathematical calculations\")"
   ]
  },
  {
   "cell_type": "code",
   "execution_count": 24,
   "id": "c2d31b46",
   "metadata": {},
   "outputs": [
    {
     "name": "stdout",
     "output_type": "stream",
     "text": [
      "[[0. 0.]\n",
      " [0. 0.]\n",
      " [0. 0.]\n",
      " [0. 0.]\n",
      " [0. 0.]\n",
      " [0. 0.]]\n",
      "(6, 2)\n",
      "float64\n"
     ]
    }
   ],
   "source": [
    "zeroes = np.zeros((6,2))\n",
    "\n",
    "print(zeroes)\n",
    "\n",
    "print(zeroes.shape)\n",
    "print(zeroes.dtype)"
   ]
  },
  {
   "cell_type": "code",
   "execution_count": 27,
   "id": "a0657d89",
   "metadata": {},
   "outputs": [
    {
     "name": "stdout",
     "output_type": "stream",
     "text": [
      "[ 0  1  2  3  4  5  6  7  8  9 10 11 12 13 14]\n",
      "<class 'numpy.ndarray'>\n"
     ]
    }
   ],
   "source": [
    "rng = np.arange(15)\n",
    "print(rng)\n",
    "print(type(rng))"
   ]
  },
  {
   "cell_type": "code",
   "execution_count": 28,
   "id": "49190381",
   "metadata": {},
   "outputs": [
    {
     "name": "stdout",
     "output_type": "stream",
     "text": [
      "[ 1.          6.44444444 11.88888889 17.33333333 22.77777778 28.22222222\n",
      " 33.66666667 39.11111111 44.55555556 50.        ]\n"
     ]
    }
   ],
   "source": [
    "lspace = np.linspace(1,50,10)\n",
    "print(lspace)"
   ]
  },
  {
   "cell_type": "code",
   "execution_count": 30,
   "id": "a1d82a4f",
   "metadata": {},
   "outputs": [
    {
     "name": "stdout",
     "output_type": "stream",
     "text": [
      "[[6.23042070e-307 4.67296746e-307 1.69121096e-306 1.95822389e-306\n",
      "  1.29060531e-306 8.45599366e-307]\n",
      " [7.56593017e-307 1.11258854e-306 1.11261502e-306 1.42410839e-306\n",
      "  7.56597770e-307 6.23059726e-307]\n",
      " [9.34608432e-307 1.11261027e-306 1.29061414e-306 6.89807188e-307\n",
      "  1.60220393e-306 7.56599807e-307]\n",
      " [8.06638080e-308 8.34424342e-308 1.11260483e-306 1.11256749e-306\n",
      "  6.23058368e-307 8.91253127e-313]]\n"
     ]
    }
   ],
   "source": [
    "emp = np.empty((4,6))\n",
    "print(emp)"
   ]
  },
  {
   "cell_type": "code",
   "execution_count": 31,
   "id": "6cd62361",
   "metadata": {},
   "outputs": [
    {
     "name": "stdout",
     "output_type": "stream",
     "text": [
      "[ 1.          6.44444444 11.88888889 17.33333333 22.77777778 28.22222222\n",
      " 33.66666667 39.11111111 44.55555556 50.        ]\n"
     ]
    }
   ],
   "source": [
    "emp_like = np.empty_like(lspace)\n",
    "print(emp_like)"
   ]
  },
  {
   "cell_type": "code",
   "execution_count": 33,
   "id": "948831ae",
   "metadata": {},
   "outputs": [
    {
     "name": "stdout",
     "output_type": "stream",
     "text": [
      "[[1. 0. 0. ... 0. 0. 0.]\n",
      " [0. 1. 0. ... 0. 0. 0.]\n",
      " [0. 0. 1. ... 0. 0. 0.]\n",
      " ...\n",
      " [0. 0. 0. ... 1. 0. 0.]\n",
      " [0. 0. 0. ... 0. 1. 0.]\n",
      " [0. 0. 0. ... 0. 0. 1.]]\n",
      "(45, 45)\n"
     ]
    }
   ],
   "source": [
    "ide = np.identity(45)\n",
    "print(ide)\n",
    "print(ide.shape)"
   ]
  },
  {
   "cell_type": "code",
   "execution_count": 34,
   "id": "651ee92f",
   "metadata": {},
   "outputs": [
    {
     "name": "stdout",
     "output_type": "stream",
     "text": [
      "[ 0  1  2  3  4  5  6  7  8  9 10 11 12 13 14 15 16 17 18 19 20 21 22 23\n",
      " 24 25 26 27 28 29 30 31 32 33 34 35 36 37 38 39 40 41 42 43 44 45 46 47\n",
      " 48 49 50 51 52 53 54 55 56 57 58 59 60 61 62 63 64 65 66 67 68 69 70 71\n",
      " 72 73 74 75 76 77 78 79 80 81 82 83 84 85 86 87 88 89 90 91 92 93 94 95\n",
      " 96 97 98]\n"
     ]
    }
   ],
   "source": [
    "arr1 = np.arange(99)\n",
    "print(arr1)"
   ]
  },
  {
   "cell_type": "code",
   "execution_count": 37,
   "id": "07e511e0",
   "metadata": {},
   "outputs": [
    {
     "name": "stdout",
     "output_type": "stream",
     "text": [
      "[[ 0  1  2  3  4  5  6  7  8  9 10 11 12 13 14 15 16 17 18 19 20 21 22 23\n",
      "  24 25 26 27 28 29 30 31 32]\n",
      " [33 34 35 36 37 38 39 40 41 42 43 44 45 46 47 48 49 50 51 52 53 54 55 56\n",
      "  57 58 59 60 61 62 63 64 65]\n",
      " [66 67 68 69 70 71 72 73 74 75 76 77 78 79 80 81 82 83 84 85 86 87 88 89\n",
      "  90 91 92 93 94 95 96 97 98]]\n"
     ]
    }
   ],
   "source": [
    "arr = arr1.reshape(3,33)\n",
    "print(arr)"
   ]
  },
  {
   "cell_type": "code",
   "execution_count": 40,
   "id": "53a7ac7a",
   "metadata": {},
   "outputs": [
    {
     "name": "stdout",
     "output_type": "stream",
     "text": [
      "[ 0  1  2  3  4  5  6  7  8  9 10 11 12 13 14 15 16 17 18 19 20 21 22 23\n",
      " 24 25 26 27 28 29 30 31 32 33 34 35 36 37 38 39 40 41 42 43 44 45 46 47\n",
      " 48 49 50 51 52 53 54 55 56 57 58 59 60 61 62 63 64 65 66 67 68 69 70 71\n",
      " 72 73 74 75 76 77 78 79 80 81 82 83 84 85 86 87 88 89 90 91 92 93 94 95\n",
      " 96 97 98]\n",
      "(99,)\n"
     ]
    }
   ],
   "source": [
    "arr1.ravel\n",
    "print(arr1)\n",
    "print(arr1.shape)"
   ]
  },
  {
   "cell_type": "markdown",
   "id": "1543ebc9",
   "metadata": {},
   "source": [
    "**Numpy Axis**\n",
    "\n",
    "-1D ARRAY -> 1 AXIS : [AXIS 0] -------> axis 0\n",
    "\n",
    "\n",
    "-2D ARRAY -> 2 AXIS : [AXIS 0] [AXIS 1]   axis 0 |---------> axis 1\n",
    "                                          \n",
    "                                         "
   ]
  },
  {
   "cell_type": "code",
   "execution_count": 41,
   "id": "fe3486fd",
   "metadata": {},
   "outputs": [
    {
     "name": "stdout",
     "output_type": "stream",
     "text": [
      "[[1 2 3]\n",
      " [4 5 6]\n",
      " [7 1 0]]\n"
     ]
    }
   ],
   "source": [
    "x = [[1,2,3], [4,5,6], [7,1,0]]\n",
    "ar = np.array(x)\n",
    "print(ar)"
   ]
  },
  {
   "cell_type": "code",
   "execution_count": 42,
   "id": "9fc7f071",
   "metadata": {},
   "outputs": [
    {
     "data": {
      "text/plain": [
       "array([12,  8,  9])"
      ]
     },
     "execution_count": 42,
     "metadata": {},
     "output_type": "execute_result"
    }
   ],
   "source": [
    "ar.sum(axis=0)"
   ]
  },
  {
   "cell_type": "code",
   "execution_count": 43,
   "id": "8badf57e",
   "metadata": {},
   "outputs": [
    {
     "data": {
      "text/plain": [
       "array([ 6, 15,  8])"
      ]
     },
     "execution_count": 43,
     "metadata": {},
     "output_type": "execute_result"
    }
   ],
   "source": [
    "ar.sum(axis=1)"
   ]
  },
  {
   "cell_type": "code",
   "execution_count": 46,
   "id": "459596a4",
   "metadata": {},
   "outputs": [
    {
     "name": "stdout",
     "output_type": "stream",
     "text": [
      "[[1 4 7]\n",
      " [2 5 1]\n",
      " [3 6 0]]\n"
     ]
    }
   ],
   "source": [
    "print(ar.T)"
   ]
  },
  {
   "cell_type": "code",
   "execution_count": 56,
   "id": "dfbab0cb",
   "metadata": {},
   "outputs": [
    {
     "name": "stdout",
     "output_type": "stream",
     "text": [
      "1\n",
      "2\n",
      "3\n",
      "4\n",
      "5\n",
      "6\n",
      "7\n",
      "1\n",
      "0\n",
      "<numpy.flatiter object at 0x00000283AFF6A8E0>\n"
     ]
    }
   ],
   "source": [
    "for item in ar.flat:\n",
    "    print(item)\n",
    "\n",
    "print(ar.flat)"
   ]
  },
  {
   "cell_type": "code",
   "execution_count": 49,
   "id": "6c696d38",
   "metadata": {},
   "outputs": [
    {
     "name": "stdout",
     "output_type": "stream",
     "text": [
      "2\n"
     ]
    }
   ],
   "source": [
    "print(ar.ndim)"
   ]
  },
  {
   "cell_type": "code",
   "execution_count": 50,
   "id": "ad4c1063",
   "metadata": {},
   "outputs": [
    {
     "name": "stdout",
     "output_type": "stream",
     "text": [
      "9\n"
     ]
    }
   ],
   "source": [
    "print(ar.size)"
   ]
  },
  {
   "cell_type": "code",
   "execution_count": 51,
   "id": "dc09cc1f",
   "metadata": {},
   "outputs": [
    {
     "name": "stdout",
     "output_type": "stream",
     "text": [
      "72\n"
     ]
    }
   ],
   "source": [
    "print(ar.nbytes)"
   ]
  },
  {
   "cell_type": "code",
   "execution_count": 52,
   "id": "584441bb",
   "metadata": {},
   "outputs": [
    {
     "name": "stdout",
     "output_type": "stream",
     "text": [
      "int64\n"
     ]
    }
   ],
   "source": [
    "print(ar.dtype)"
   ]
  },
  {
   "cell_type": "code",
   "execution_count": 58,
   "id": "b74a873f",
   "metadata": {},
   "outputs": [
    {
     "name": "stdout",
     "output_type": "stream",
     "text": [
      "3\n",
      "0\n",
      "[0 5 2 1 4 3]\n"
     ]
    }
   ],
   "source": [
    "one = np.array([1,2,2,3,2,1])\n",
    "\n",
    "print(one.argmax())\n",
    "print(one.argmin())\n",
    "print(one.argsort())"
   ]
  },
  {
   "cell_type": "code",
   "execution_count": 60,
   "id": "5a95b4bd",
   "metadata": {},
   "outputs": [
    {
     "name": "stdout",
     "output_type": "stream",
     "text": [
      "8\n"
     ]
    }
   ],
   "source": [
    "print(ar.argmin())"
   ]
  },
  {
   "cell_type": "code",
   "execution_count": 61,
   "id": "65287585",
   "metadata": {},
   "outputs": [
    {
     "name": "stdout",
     "output_type": "stream",
     "text": [
      "6\n"
     ]
    }
   ],
   "source": [
    "print(ar.argmax())"
   ]
  },
  {
   "cell_type": "code",
   "execution_count": 62,
   "id": "756689fc",
   "metadata": {},
   "outputs": [
    {
     "name": "stdout",
     "output_type": "stream",
     "text": [
      "[2 1 1]\n"
     ]
    }
   ],
   "source": [
    "print(ar.argmax(axis=0))"
   ]
  },
  {
   "cell_type": "code",
   "execution_count": 63,
   "id": "cb0b2640",
   "metadata": {},
   "outputs": [
    {
     "name": "stdout",
     "output_type": "stream",
     "text": [
      "[2 2 0]\n"
     ]
    }
   ],
   "source": [
    "print(ar.argmax(axis=1))"
   ]
  },
  {
   "cell_type": "code",
   "execution_count": 64,
   "id": "d0be2dc5",
   "metadata": {},
   "outputs": [
    {
     "name": "stdout",
     "output_type": "stream",
     "text": [
      "[[0 2 2]\n",
      " [1 0 0]\n",
      " [2 1 1]]\n"
     ]
    }
   ],
   "source": [
    "print(ar.argsort(axis=0))"
   ]
  },
  {
   "cell_type": "code",
   "execution_count": 65,
   "id": "cf748b00",
   "metadata": {},
   "outputs": [
    {
     "name": "stdout",
     "output_type": "stream",
     "text": [
      "[1 2 3 4 5 6 7 1 0]\n"
     ]
    }
   ],
   "source": [
    "print(ar.reshape(9,))"
   ]
  },
  {
   "cell_type": "code",
   "execution_count": 67,
   "id": "e2f7ba30",
   "metadata": {},
   "outputs": [
    {
     "name": "stdout",
     "output_type": "stream",
     "text": [
      "[[13  5  4]\n",
      " [ 5  6  7]\n",
      " [ 8  1  0]]\n"
     ]
    }
   ],
   "source": [
    "ar2 = np.array([[12,3,1], [1,1,1], [1,0,0]])\n",
    "\n",
    "print(ar+ar2)"
   ]
  },
  {
   "cell_type": "code",
   "execution_count": 68,
   "id": "3c426ed2",
   "metadata": {},
   "outputs": [
    {
     "name": "stdout",
     "output_type": "stream",
     "text": [
      "[[12  6  3]\n",
      " [ 4  5  6]\n",
      " [ 7  0  0]]\n"
     ]
    }
   ],
   "source": [
    "print(ar*ar2)"
   ]
  },
  {
   "cell_type": "code",
   "execution_count": 69,
   "id": "d743ebb5",
   "metadata": {},
   "outputs": [
    {
     "name": "stdout",
     "output_type": "stream",
     "text": [
      "[[1.         1.41421356 1.73205081]\n",
      " [2.         2.23606798 2.44948974]\n",
      " [2.64575131 1.         0.        ]]\n"
     ]
    }
   ],
   "source": [
    "print(np.sqrt(ar))"
   ]
  },
  {
   "cell_type": "code",
   "execution_count": 71,
   "id": "c63e904e",
   "metadata": {},
   "outputs": [
    {
     "name": "stdout",
     "output_type": "stream",
     "text": [
      "29\n"
     ]
    }
   ],
   "source": [
    "print(ar.sum())"
   ]
  },
  {
   "cell_type": "code",
   "execution_count": 72,
   "id": "77e9e16b",
   "metadata": {},
   "outputs": [
    {
     "name": "stdout",
     "output_type": "stream",
     "text": [
      "(array([1, 2]), array([2, 0]))\n"
     ]
    }
   ],
   "source": [
    "print(np.where(ar>5))"
   ]
  },
  {
   "cell_type": "code",
   "execution_count": 73,
   "id": "927f7588",
   "metadata": {},
   "outputs": [
    {
     "name": "stdout",
     "output_type": "stream",
     "text": [
      "8\n"
     ]
    }
   ],
   "source": [
    "print(np.count_nonzero(ar))"
   ]
  },
  {
   "cell_type": "code",
   "execution_count": 74,
   "id": "6ce42c28",
   "metadata": {},
   "outputs": [
    {
     "name": "stdout",
     "output_type": "stream",
     "text": [
      "(array([0, 0, 0, 1, 1, 1, 2, 2]), array([0, 1, 2, 0, 1, 2, 0, 1]))\n"
     ]
    }
   ],
   "source": [
    "print(np.nonzero(ar))"
   ]
  },
  {
   "cell_type": "code",
   "execution_count": 75,
   "id": "260f539b",
   "metadata": {},
   "outputs": [],
   "source": [
    "import sys \n"
   ]
  },
  {
   "cell_type": "code",
   "execution_count": 76,
   "id": "8f3ee94e",
   "metadata": {},
   "outputs": [],
   "source": [
    "py_ar = [0,4,55,2]\n"
   ]
  },
  {
   "cell_type": "code",
   "execution_count": 77,
   "id": "d60e459f",
   "metadata": {},
   "outputs": [],
   "source": [
    "np_ar = np.array([0,4,55,2])"
   ]
  },
  {
   "cell_type": "code",
   "execution_count": 80,
   "id": "6a0195ba",
   "metadata": {},
   "outputs": [
    {
     "name": "stdout",
     "output_type": "stream",
     "text": [
      "112\n",
      "32\n"
     ]
    }
   ],
   "source": [
    "print(sys.getsizeof(1)*len(py_ar))\n",
    "print(np_ar.itemsize*np_ar.size)"
   ]
  }
 ],
 "metadata": {
  "kernelspec": {
   "display_name": "base",
   "language": "python",
   "name": "python3"
  },
  "language_info": {
   "codemirror_mode": {
    "name": "ipython",
    "version": 3
   },
   "file_extension": ".py",
   "mimetype": "text/x-python",
   "name": "python",
   "nbconvert_exporter": "python",
   "pygments_lexer": "ipython3",
   "version": "3.12.9"
  }
 },
 "nbformat": 4,
 "nbformat_minor": 5
}
